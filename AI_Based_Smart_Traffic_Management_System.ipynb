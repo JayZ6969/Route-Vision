{
  "nbformat": 4,
  "nbformat_minor": 0,
  "metadata": {
    "colab": {
      "provenance": [],
      "gpuType": "V28",
      "authorship_tag": "ABX9TyMYTOMcLkb76jaToMNsUCjf",
      "include_colab_link": true
    },
    "kernelspec": {
      "name": "python3",
      "display_name": "Python 3"
    },
    "language_info": {
      "name": "python"
    },
    "accelerator": "TPU"
  },
  "cells": [
    {
      "cell_type": "markdown",
      "metadata": {
        "id": "view-in-github",
        "colab_type": "text"
      },
      "source": [
        "<a href=\"https://colab.research.google.com/github/JayZ6969/SIH-internal-2024/blob/main/AI_Based_Smart_Traffic_Management_System.ipynb\" target=\"_parent\"><img src=\"https://colab.research.google.com/assets/colab-badge.svg\" alt=\"Open In Colab\"/></a>"
      ]
    },
    {
      "cell_type": "markdown",
      "source": [
        "\n",
        "\n",
        "```\n",
        "Clone YOLOv5 and Install Dependencies\n",
        "```\n",
        "\n"
      ],
      "metadata": {
        "id": "OMwqcIoR-25x"
      }
    },
    {
      "cell_type": "code",
      "execution_count": null,
      "metadata": {
        "id": "Lu1fSDCX-s_7"
      },
      "outputs": [],
      "source": [
        "!git clone https://github.com/JayZ6969/SIH-internal-2024/  # clone\n",
        "%cd SIH-internal-2024/yolov5\n",
        "%pip install -qr requirements.txt comet_ml  # install\n",
        "\n",
        "import torch\n",
        "import utils\n",
        "display = utils.notebook_init()  # checks"
      ]
    },
    {
      "cell_type": "code",
      "source": [
        "# mount google drive\n",
        "from google.colab import drive\n",
        "drive.mount('/content/drive')\n",
        "\n",
        "# Copy the dataset into the YOLOv5 Folder\n",
        "!cp -r /content/drive/MyDrive/dataset/ /content/SIH-internal-2024/yolov5/dataset"
      ],
      "metadata": {
        "id": "mQfdkV9H-4jW"
      },
      "execution_count": null,
      "outputs": []
    },
    {
      "cell_type": "code",
      "source": [
        "!ls /content/SIH-internal-2024/yolov5/dataset/"
      ],
      "metadata": {
        "id": "GyJRM0vDPq9w"
      },
      "execution_count": null,
      "outputs": []
    },
    {
      "cell_type": "code",
      "source": [
        "!python train.py --img 640 --batch 16 --epochs 32 --data /content/SIH-internal-2024/yolov5/dataset.yaml --cfg models/yolov5s.yaml --weights yolov5s.pt --cache"
      ],
      "metadata": {
        "id": "QydcNSNtLoMt"
      },
      "execution_count": null,
      "outputs": []
    },
    {
      "cell_type": "code",
      "source": [
        "!zip -r /content/exp2.zip /content/SIH-internal-2024/yolov5/runs/train/exp2/"
      ],
      "metadata": {
        "id": "eAXGN_oMPwD0"
      },
      "execution_count": null,
      "outputs": []
    },
    {
      "cell_type": "code",
      "source": [
        "from google.colab import files\n",
        "\n",
        "# Download the zipped folder\n",
        "# files.download('/content/exp2.zip')"
      ],
      "metadata": {
        "id": "jvqjN9qZTreR"
      },
      "execution_count": null,
      "outputs": []
    },
    {
      "cell_type": "code",
      "source": [],
      "metadata": {
        "id": "vDwvFYhtUwCB"
      },
      "execution_count": null,
      "outputs": []
    }
  ]
}